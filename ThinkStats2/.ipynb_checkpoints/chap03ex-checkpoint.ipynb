{
 "cells": [
  {
   "cell_type": "markdown",
   "metadata": {},
   "source": [
    "Exercise from Think Stats, 2nd Edition (thinkstats2.com)<br>\n",
    "Allen Downey\n",
    "\n",
    "Read the female respondent file."
   ]
  },
  {
   "cell_type": "code",
   "execution_count": 81,
   "metadata": {
    "collapsed": false
   },
   "outputs": [
    {
     "data": {
      "text/html": [
       "<div>\n",
       "<table border=\"1\" class=\"dataframe\">\n",
       "  <thead>\n",
       "    <tr style=\"text-align: right;\">\n",
       "      <th></th>\n",
       "      <th>caseid</th>\n",
       "      <th>rscrinf</th>\n",
       "      <th>rdormres</th>\n",
       "      <th>rostscrn</th>\n",
       "      <th>rscreenhisp</th>\n",
       "      <th>rscreenrace</th>\n",
       "      <th>age_a</th>\n",
       "      <th>age_r</th>\n",
       "      <th>cmbirth</th>\n",
       "      <th>agescrn</th>\n",
       "      <th>...</th>\n",
       "      <th>totincr_i</th>\n",
       "      <th>pubassis_i</th>\n",
       "      <th>basewgt</th>\n",
       "      <th>adj_mod_basewgt</th>\n",
       "      <th>finalwgt</th>\n",
       "      <th>secu_r</th>\n",
       "      <th>sest</th>\n",
       "      <th>cmintvw</th>\n",
       "      <th>cmlstyr</th>\n",
       "      <th>intvlngth</th>\n",
       "    </tr>\n",
       "  </thead>\n",
       "  <tbody>\n",
       "    <tr>\n",
       "      <th>count</th>\n",
       "      <td>7643.000000</td>\n",
       "      <td>7643.000000</td>\n",
       "      <td>7643.000000</td>\n",
       "      <td>7643.000000</td>\n",
       "      <td>7643.000000</td>\n",
       "      <td>7636.000000</td>\n",
       "      <td>7643.000000</td>\n",
       "      <td>7643.000000</td>\n",
       "      <td>7643.000000</td>\n",
       "      <td>7643.000000</td>\n",
       "      <td>...</td>\n",
       "      <td>7643.000000</td>\n",
       "      <td>7643.000000</td>\n",
       "      <td>7643.000000</td>\n",
       "      <td>7643.000000</td>\n",
       "      <td>7643.000000</td>\n",
       "      <td>7643.00000</td>\n",
       "      <td>7643.000000</td>\n",
       "      <td>7643.000000</td>\n",
       "      <td>7643.000000</td>\n",
       "      <td>7643.000000</td>\n",
       "    </tr>\n",
       "    <tr>\n",
       "      <th>mean</th>\n",
       "      <td>6272.107811</td>\n",
       "      <td>2.589952</td>\n",
       "      <td>4.901086</td>\n",
       "      <td>3.210258</td>\n",
       "      <td>4.207641</td>\n",
       "      <td>4.543740</td>\n",
       "      <td>29.501374</td>\n",
       "      <td>29.503729</td>\n",
       "      <td>872.764098</td>\n",
       "      <td>29.503729</td>\n",
       "      <td>...</td>\n",
       "      <td>0.082428</td>\n",
       "      <td>0.020411</td>\n",
       "      <td>4165.454807</td>\n",
       "      <td>5285.022176</td>\n",
       "      <td>8054.522410</td>\n",
       "      <td>1.48986</td>\n",
       "      <td>44.574905</td>\n",
       "      <td>1232.783200</td>\n",
       "      <td>1220.783200</td>\n",
       "      <td>82.755558</td>\n",
       "    </tr>\n",
       "    <tr>\n",
       "      <th>std</th>\n",
       "      <td>3638.824134</td>\n",
       "      <td>1.957642</td>\n",
       "      <td>0.621227</td>\n",
       "      <td>1.453237</td>\n",
       "      <td>1.594345</td>\n",
       "      <td>0.915728</td>\n",
       "      <td>8.431868</td>\n",
       "      <td>8.433187</td>\n",
       "      <td>101.161818</td>\n",
       "      <td>8.433187</td>\n",
       "      <td>...</td>\n",
       "      <td>0.275034</td>\n",
       "      <td>0.141410</td>\n",
       "      <td>3210.203026</td>\n",
       "      <td>4506.081386</td>\n",
       "      <td>7342.734883</td>\n",
       "      <td>0.49993</td>\n",
       "      <td>24.239897</td>\n",
       "      <td>2.978545</td>\n",
       "      <td>2.978545</td>\n",
       "      <td>32.618328</td>\n",
       "    </tr>\n",
       "    <tr>\n",
       "      <th>min</th>\n",
       "      <td>1.000000</td>\n",
       "      <td>1.000000</td>\n",
       "      <td>1.000000</td>\n",
       "      <td>1.000000</td>\n",
       "      <td>1.000000</td>\n",
       "      <td>1.000000</td>\n",
       "      <td>15.000000</td>\n",
       "      <td>15.000000</td>\n",
       "      <td>688.000000</td>\n",
       "      <td>15.000000</td>\n",
       "      <td>...</td>\n",
       "      <td>0.000000</td>\n",
       "      <td>0.000000</td>\n",
       "      <td>64.577101</td>\n",
       "      <td>71.201194</td>\n",
       "      <td>118.656790</td>\n",
       "      <td>1.00000</td>\n",
       "      <td>1.000000</td>\n",
       "      <td>1225.000000</td>\n",
       "      <td>1213.000000</td>\n",
       "      <td>13.512667</td>\n",
       "    </tr>\n",
       "    <tr>\n",
       "      <th>25%</th>\n",
       "      <td>3105.500000</td>\n",
       "      <td>1.000000</td>\n",
       "      <td>5.000000</td>\n",
       "      <td>2.000000</td>\n",
       "      <td>5.000000</td>\n",
       "      <td>4.000000</td>\n",
       "      <td>22.000000</td>\n",
       "      <td>22.000000</td>\n",
       "      <td>787.000000</td>\n",
       "      <td>22.000000</td>\n",
       "      <td>...</td>\n",
       "      <td>0.000000</td>\n",
       "      <td>0.000000</td>\n",
       "      <td>2418.149898</td>\n",
       "      <td>2900.050198</td>\n",
       "      <td>4175.880599</td>\n",
       "      <td>1.00000</td>\n",
       "      <td>25.000000</td>\n",
       "      <td>1231.000000</td>\n",
       "      <td>1219.000000</td>\n",
       "      <td>60.527833</td>\n",
       "    </tr>\n",
       "    <tr>\n",
       "      <th>50%</th>\n",
       "      <td>6275.000000</td>\n",
       "      <td>1.000000</td>\n",
       "      <td>5.000000</td>\n",
       "      <td>3.000000</td>\n",
       "      <td>5.000000</td>\n",
       "      <td>5.000000</td>\n",
       "      <td>30.000000</td>\n",
       "      <td>30.000000</td>\n",
       "      <td>873.000000</td>\n",
       "      <td>30.000000</td>\n",
       "      <td>...</td>\n",
       "      <td>0.000000</td>\n",
       "      <td>0.000000</td>\n",
       "      <td>3410.500996</td>\n",
       "      <td>4212.069520</td>\n",
       "      <td>6553.169964</td>\n",
       "      <td>1.00000</td>\n",
       "      <td>45.000000</td>\n",
       "      <td>1233.000000</td>\n",
       "      <td>1221.000000</td>\n",
       "      <td>78.180833</td>\n",
       "    </tr>\n",
       "    <tr>\n",
       "      <th>75%</th>\n",
       "      <td>9442.000000</td>\n",
       "      <td>5.000000</td>\n",
       "      <td>5.000000</td>\n",
       "      <td>4.000000</td>\n",
       "      <td>5.000000</td>\n",
       "      <td>5.000000</td>\n",
       "      <td>37.000000</td>\n",
       "      <td>37.000000</td>\n",
       "      <td>959.500000</td>\n",
       "      <td>37.000000</td>\n",
       "      <td>...</td>\n",
       "      <td>0.000000</td>\n",
       "      <td>0.000000</td>\n",
       "      <td>4870.774756</td>\n",
       "      <td>6033.357685</td>\n",
       "      <td>9590.027246</td>\n",
       "      <td>2.00000</td>\n",
       "      <td>65.000000</td>\n",
       "      <td>1235.000000</td>\n",
       "      <td>1223.000000</td>\n",
       "      <td>99.281000</td>\n",
       "    </tr>\n",
       "    <tr>\n",
       "      <th>max</th>\n",
       "      <td>12571.000000</td>\n",
       "      <td>5.000000</td>\n",
       "      <td>5.000000</td>\n",
       "      <td>8.000000</td>\n",
       "      <td>5.000000</td>\n",
       "      <td>5.000000</td>\n",
       "      <td>44.000000</td>\n",
       "      <td>44.000000</td>\n",
       "      <td>1058.000000</td>\n",
       "      <td>44.000000</td>\n",
       "      <td>...</td>\n",
       "      <td>1.000000</td>\n",
       "      <td>1.000000</td>\n",
       "      <td>99707.832014</td>\n",
       "      <td>157143.686687</td>\n",
       "      <td>261879.953864</td>\n",
       "      <td>2.00000</td>\n",
       "      <td>84.000000</td>\n",
       "      <td>1239.000000</td>\n",
       "      <td>1227.000000</td>\n",
       "      <td>306.238000</td>\n",
       "    </tr>\n",
       "  </tbody>\n",
       "</table>\n",
       "<p>8 rows × 3086 columns</p>\n",
       "</div>"
      ],
      "text/plain": [
       "             caseid      rscrinf     rdormres     rostscrn  rscreenhisp  \\\n",
       "count   7643.000000  7643.000000  7643.000000  7643.000000  7643.000000   \n",
       "mean    6272.107811     2.589952     4.901086     3.210258     4.207641   \n",
       "std     3638.824134     1.957642     0.621227     1.453237     1.594345   \n",
       "min        1.000000     1.000000     1.000000     1.000000     1.000000   \n",
       "25%     3105.500000     1.000000     5.000000     2.000000     5.000000   \n",
       "50%     6275.000000     1.000000     5.000000     3.000000     5.000000   \n",
       "75%     9442.000000     5.000000     5.000000     4.000000     5.000000   \n",
       "max    12571.000000     5.000000     5.000000     8.000000     5.000000   \n",
       "\n",
       "       rscreenrace        age_a        age_r      cmbirth      agescrn  \\\n",
       "count  7636.000000  7643.000000  7643.000000  7643.000000  7643.000000   \n",
       "mean      4.543740    29.501374    29.503729   872.764098    29.503729   \n",
       "std       0.915728     8.431868     8.433187   101.161818     8.433187   \n",
       "min       1.000000    15.000000    15.000000   688.000000    15.000000   \n",
       "25%       4.000000    22.000000    22.000000   787.000000    22.000000   \n",
       "50%       5.000000    30.000000    30.000000   873.000000    30.000000   \n",
       "75%       5.000000    37.000000    37.000000   959.500000    37.000000   \n",
       "max       5.000000    44.000000    44.000000  1058.000000    44.000000   \n",
       "\n",
       "          ...         totincr_i   pubassis_i       basewgt  adj_mod_basewgt  \\\n",
       "count     ...       7643.000000  7643.000000   7643.000000      7643.000000   \n",
       "mean      ...          0.082428     0.020411   4165.454807      5285.022176   \n",
       "std       ...          0.275034     0.141410   3210.203026      4506.081386   \n",
       "min       ...          0.000000     0.000000     64.577101        71.201194   \n",
       "25%       ...          0.000000     0.000000   2418.149898      2900.050198   \n",
       "50%       ...          0.000000     0.000000   3410.500996      4212.069520   \n",
       "75%       ...          0.000000     0.000000   4870.774756      6033.357685   \n",
       "max       ...          1.000000     1.000000  99707.832014    157143.686687   \n",
       "\n",
       "            finalwgt      secu_r         sest      cmintvw      cmlstyr  \\\n",
       "count    7643.000000  7643.00000  7643.000000  7643.000000  7643.000000   \n",
       "mean     8054.522410     1.48986    44.574905  1232.783200  1220.783200   \n",
       "std      7342.734883     0.49993    24.239897     2.978545     2.978545   \n",
       "min       118.656790     1.00000     1.000000  1225.000000  1213.000000   \n",
       "25%      4175.880599     1.00000    25.000000  1231.000000  1219.000000   \n",
       "50%      6553.169964     1.00000    45.000000  1233.000000  1221.000000   \n",
       "75%      9590.027246     2.00000    65.000000  1235.000000  1223.000000   \n",
       "max    261879.953864     2.00000    84.000000  1239.000000  1227.000000   \n",
       "\n",
       "         intvlngth  \n",
       "count  7643.000000  \n",
       "mean     82.755558  \n",
       "std      32.618328  \n",
       "min      13.512667  \n",
       "25%      60.527833  \n",
       "50%      78.180833  \n",
       "75%      99.281000  \n",
       "max     306.238000  \n",
       "\n",
       "[8 rows x 3086 columns]"
      ]
     },
     "execution_count": 81,
     "metadata": {},
     "output_type": "execute_result"
    }
   ],
   "source": [
    "%matplotlib inline\n",
    "import seaborn as sns\n",
    "import thinkstats2, thinkplot, nsfg\n",
    "import chap01soln\n",
    "resp = chap01soln.ReadFemResp()\n",
    "resp.describe()"
   ]
  },
  {
   "cell_type": "markdown",
   "metadata": {},
   "source": [
    "Make a PMF of <tt>numkdhh</tt>, the number of children under 18 in the respondent's household."
   ]
  },
  {
   "cell_type": "code",
   "execution_count": 82,
   "metadata": {
    "collapsed": false
   },
   "outputs": [],
   "source": [
    "pmf = thinkstats2.Pmf(resp['numkdhh'])"
   ]
  },
  {
   "cell_type": "markdown",
   "metadata": {},
   "source": [
    "Display the PMF."
   ]
  },
  {
   "cell_type": "code",
   "execution_count": 83,
   "metadata": {
    "collapsed": false
   },
   "outputs": [
    {
     "name": "stdout",
     "output_type": "stream",
     "text": [
      "Children under 18 in respondent's household\n"
     ]
    },
    {
     "data": {
      "image/png": "[encoded data removed]",
      "text/plain": [
       "<matplotlib.figure.Figure at 0x7f2899f9ab10>"
      ]
     },
     "metadata": {},
     "output_type": "display_data"
    }
   ],
   "source": [
    "print \"Children under 18 in respondent's household\"\n",
    "thinkplot.Pmf(pmf)\n",
    "thinkplot.Config(xlabel='number of children', ylabel='probability')"
   ]
  },
  {
   "cell_type": "markdown",
   "metadata": {},
   "source": [
    "Define <tt>BiasPmf</tt>."
   ]
  },
  {
   "cell_type": "code",
   "execution_count": 84,
   "metadata": {
    "collapsed": false
   },
   "outputs": [],
   "source": [
    "def BiasPmf(pmf, label=''):\n",
    "    \"\"\"Returns the Pmf with oversampling proportional to value.\n",
    "\n",
    "    If pmf is the distribution of true values, the result is the\n",
    "    distribution that would be seen if values are oversampled in\n",
    "    proportion to their values; for example, if you ask students\n",
    "    how big their classes are, large classes are oversampled in\n",
    "    proportion to their size.\n",
    "\n",
    "    Args:\n",
    "      pmf: Pmf object.\n",
    "      label: string label for the new Pmf.\n",
    "\n",
    "     Returns:\n",
    "       Pmf object\n",
    "    \"\"\"\n",
    "    new_pmf = pmf.Copy(label=label)\n",
    "\n",
    "    for x, p in pmf.Items():\n",
    "        new_pmf.Mult(x, x)\n",
    "        \n",
    "    new_pmf.Normalize()\n",
    "    return new_pmf"
   ]
  },
  {
   "cell_type": "markdown",
   "metadata": {},
   "source": [
    "Make a the biased Pmf of children in the household, as observed if you surveyed the children instead of the respondents."
   ]
  },
  {
   "cell_type": "code",
   "execution_count": 85,
   "metadata": {
    "collapsed": false
   },
   "outputs": [],
   "source": [
    "pmf_bias = BiasPmf(pmf)"
   ]
  },
  {
   "cell_type": "markdown",
   "metadata": {},
   "source": [
    "Display the actual Pmf and the biased Pmf on the same axes."
   ]
  },
  {
   "cell_type": "code",
   "execution_count": 86,
   "metadata": {
    "collapsed": false
   },
   "outputs": [
    {
     "name": "stdout",
     "output_type": "stream",
     "text": [
      "                        Unbiased pmf                                       Biased pmf\n"
     ]
    },
    {
     "data": {
      "image/png": "[encoded data removed]",
      "text/plain": [
       "<matplotlib.figure.Figure at 0x7f289aafee10>"
      ]
     },
     "metadata": {},
     "output_type": "display_data"
    },
    {
     "data": {
      "text/plain": [
       "<matplotlib.figure.Figure at 0x7f289a360a90>"
      ]
     },
     "metadata": {},
     "output_type": "display_data"
    }
   ],
   "source": [
    "print \"                        Unbiased pmf                                       Biased pmf\"\n",
    "thinkplot.PrePlot(2, cols=2)\n",
    "thinkplot.Pmf(pmf)\n",
    "thinkplot.Config(xlabel='number of children', ylabel='probability')\n",
    "\n",
    "thinkplot.PrePlot(2)\n",
    "thinkplot.SubPlot(2)\n",
    "thinkplot.Pmf(pmf_bias)\n",
    "thinkplot.Show(xlabel='number of children')"
   ]
  },
  {
   "cell_type": "markdown",
   "metadata": {},
   "source": [
    "Compute the means of the two Pmfs."
   ]
  },
  {
   "cell_type": "code",
   "execution_count": 87,
   "metadata": {
    "collapsed": false
   },
   "outputs": [
    {
     "name": "stdout",
     "output_type": "stream",
     "text": [
      "Unbiased mean:  1.02420515504          Biased mean:  2.40367910066 \n",
      "\n",
      "Difference in means:  1.37947394562\n"
     ]
    }
   ],
   "source": [
    "p_mean = pmf.Mean()\n",
    "bp_mean = pmf_bias.Mean()\n",
    "\n",
    "print 'Unbiased mean: ', p_mean, '         Biased mean: ', bp_mean, '\\n'\n",
    "print 'Difference in means: ', bp_mean - p_mean"
   ]
  },
  {
   "cell_type": "markdown",
   "metadata": {
    "collapsed": false
   },
   "source": [
    "### ThinkStats Chapter 3, Exercise 3\n",
    "\n",
    "I started with the question, “Are first babies more likely to be late?” To address it, I computed the difference in means between groups of babies, but I ignored the possibility that there might be a difference between first babies and others for the same woman.\n",
    "\n",
    "To address this version of the question, select respondents who have at least two babies and compute pairwise differences. Does this formulation of the question yield a different result?\n",
    "\n",
    "Hint: use nsfg.MakePregMap."
   ]
  },
  {
   "cell_type": "code",
   "execution_count": 88,
   "metadata": {
    "collapsed": false
   },
   "outputs": [
    {
     "name": "stdout",
     "output_type": "stream",
     "text": [
      "The plots show the difference in probablities between first births and other births\n"
     ]
    },
    {
     "data": {
      "image/png": "[encoded data removed]",
      "text/plain": [
       "<matplotlib.figure.Figure at 0x7f289a5a8bd0>"
      ]
     },
     "metadata": {},
     "output_type": "display_data"
    },
    {
     "data": {
      "text/plain": [
       "<matplotlib.figure.Figure at 0x7f2893322c90>"
      ]
     },
     "metadata": {},
     "output_type": "display_data"
    }
   ],
   "source": [
    "data = nsfg.ReadFemPreg()\n",
    "#Retrieve respondents with 2 or more births\n",
    "two_baby = data[data.birthord > 1]\n",
    "\n",
    "#Create a list of all these respondents' other pregnancies\n",
    "preg_map = nsfg.MakePregMap(two_baby)\n",
    "case_list = [case for case in preg_map.itervalues()]\n",
    "flat_list = [item for sublist in case_list for item in sublist]\n",
    "\n",
    "#Create a dataframe with previous list\n",
    "peeps = data.loc[data['caseid'].isin(flat_list)]\n",
    "\n",
    "\n",
    "first_pmf = thinkstats2.Pmf(peeps[peeps.birthord==1].prglngth)\n",
    "other_pmf = thinkstats2.Pmf(peeps[peeps.birthord>1].prglngth)\n",
    "\n",
    "print 'The plots show the difference in probablities between first births and other births'\n",
    "\n",
    "thinkplot.PrePlot(2, cols=2)\n",
    "thinkplot.Pmf(first_pmf)\n",
    "thinkplot.Pmf(other_pmf)\n",
    "thinkplot.Config(xlabel='week of birth', ylabel='probability')\n",
    "\n",
    "\n",
    "\n",
    "weeks = range(35, 46)\n",
    "diffs = []\n",
    "for week in weeks:\n",
    "    p1 = first_pmf.Prob(week)\n",
    "    p2 = other_pmf.Prob(week)\n",
    "    diff = 100 * (p1 - p2)\n",
    "    diffs.append(diff)\n",
    "\n",
    "thinkplot.PrePlot(2)\n",
    "thinkplot.SubPlot(2)\n",
    "thinkplot.Bar(weeks, diffs)\n",
    "thinkplot.Show(xlabel='week of birth')"
   ]
  },
  {
   "cell_type": "markdown",
   "metadata": {},
   "source": [
    "Comparing first and subsequent births for the same parent does not look that much different from the graph that was previously generated."
   ]
  },
  {
   "cell_type": "markdown",
   "metadata": {},
   "source": [
    "### Clarifying Questions\n",
    "\n",
    "Use this space to ask questions regarding the content covered in the reading. These questions should be restricted to helping you better understand the material. For questions that push beyond what is in the reading, use the next answer field. If you don't have a fully formed question, but are generally having a difficult time with a topic, you can indicate that here as well."
   ]
  },
  {
   "cell_type": "markdown",
   "metadata": {},
   "source": []
  },
  {
   "cell_type": "markdown",
   "metadata": {},
   "source": [
    "### Enrichment Questions\n",
    "\n",
    "Use this space to ask any questions that go beyond (but are related to) the material presented in this reading. Perhaps there is a particular topic you'd like to see covered in more depth. Perhaps you'd like to know how to use a library in a way that wasn't show in the reading. One way to think about this is what additional topics would you want covered in the next class (or addressed in a followup e-mail to the class). I'm a little fuzzy on what stuff will likely go here, so we'll see how things evolve."
   ]
  },
  {
   "cell_type": "markdown",
   "metadata": {},
   "source": []
  },
  {
   "cell_type": "markdown",
   "metadata": {},
   "source": [
    "### Additional Resources / Explorations\n",
    "\n",
    "If you found any useful resources, or tried some useful exercises that you'd like to report please do so here. Let us know what you did, what you learned, and how others can replicate it."
   ]
  },
  {
   "cell_type": "markdown",
   "metadata": {},
   "source": []
  }
 ],
 "metadata": {
  "kernelspec": {
   "display_name": "Python 2",
   "language": "python",
   "name": "python2"
  },
  "language_info": {
   "codemirror_mode": {
    "name": "ipython",
    "version": 2
   },
   "file_extension": ".py",
   "mimetype": "text/x-python",
   "name": "python",
   "nbconvert_exporter": "python",
   "pygments_lexer": "ipython2",
   "version": "2.7.11"
  }
 },
 "nbformat": 4,
 "nbformat_minor": 0
}
