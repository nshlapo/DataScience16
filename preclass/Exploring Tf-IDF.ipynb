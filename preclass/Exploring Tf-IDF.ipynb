{
 "cells": [
  {
   "cell_type": "markdown",
   "metadata": {},
   "source": [
    "## Exploring Tf-IDF\n",
    "\n",
    "In this notebook you will be exploring the computation of the Tf-IDF feature using a very popular dataset called 20 newsgroups.\n",
    "\n",
    "The resources you should use to complete this notebook are:\n",
    "1.  https://en.wikipedia.org/wiki/Tf%E2%80%93idf\n",
    "2.  http://www.tfidf.com/"
   ]
  },
  {
   "cell_type": "code",
   "execution_count": 41,
   "metadata": {
    "collapsed": false
   },
   "outputs": [
    {
     "name": "stdout",
     "output_type": "stream",
     "text": [
      "the 20 newsgroups by date dataset\n",
      "Number of posts 11314\n"
     ]
    },
    {
     "data": {
      "image/png": "[encoded data removed]",
      "text/plain": [
       "<matplotlib.figure.Figure at 0x7f40b5e05250>"
      ]
     },
     "metadata": {},
     "output_type": "display_data"
    },
    {
     "name": "stdout",
     "output_type": "stream",
     "text": [
      "First post!\n",
      "I was wondering if anyone out there could enlighten me on this car I saw\n",
      "the other day. It was a 2-door sports car, looked to be from the late 60s/\n",
      "early 70s. It was called a Bricklin. The doors were really small. In addition,\n",
      "the front bumper was separate from the rest of the body. This is \n",
      "all I know. If anyone can tellme a model name, engine specs, years\n",
      "of production, where this car is made, history, or whatever info you\n",
      "have on this funky looking car, please e-mail.\n"
     ]
    }
   ],
   "source": [
    "%matplotlib inline\n",
    "from sklearn.datasets import fetch_20newsgroups\n",
    "from math import log\n",
    "import seaborn as sns\n",
    "\n",
    "data = fetch_20newsgroups(subset='train', remove=('headers', 'footers', 'quotes'))\n",
    "\n",
    "post_texts = data.data\n",
    "news_group_ids = data.target\n",
    "\n",
    "print data.description\n",
    "\n",
    "print \"Number of posts\", len(data.data)\n",
    "import matplotlib.pyplot as plt\n",
    "plt.hist(data.target, bins=20)\n",
    "plt.xlabel('Newsgroup Id')\n",
    "plt.ylabel('Number of Posts')\n",
    "plt.show()\n",
    "\n",
    "print \"First post!\"\n",
    "print data.data[0]"
   ]
  },
  {
   "cell_type": "code",
   "execution_count": 42,
   "metadata": {
    "collapsed": false
   },
   "outputs": [],
   "source": [
    "def readable(text):\n",
    "    replace = [',', '.', '\\n', '/', '!', '?']\n",
    "    \n",
    "    for char in replace:\n",
    "        text = text.replace(char, ' ')\n",
    "        \n",
    "    return text.split()"
   ]
  },
  {
   "cell_type": "markdown",
   "metadata": {},
   "source": [
    "Next, you will be writing a function to compute the term frequency part of [Tf-IDF](https://en.wikipedia.org/wiki/Tf%E2%80%93idf).  It's up to you how fancy to make this function.  In my simple version, I used split after first removing leading or trailing punctuation (I used the `strip` function) and also converting the words to lower case."
   ]
  },
  {
   "cell_type": "code",
   "execution_count": 44,
   "metadata": {
    "collapsed": false
   },
   "outputs": [
    {
     "name": "stdout",
     "output_type": "stream",
     "text": [
      "Frequency count:  6\n",
      "Normalized count:  0.0659340659341\n",
      "Augmented count:  1.0\n",
      "Log-scale count:  2.79175946923\n"
     ]
    }
   ],
   "source": [
    "def tf(text, method='freq'):\n",
    "    \"\"\" Returns a dictionary where keys are words that occur in text\n",
    "        and the value is based on the (method):\n",
    "        \n",
    "        freq: word count in text\n",
    "        norm: ratio of word count to total words in text\n",
    "        aug: ratio of word count to max word count in text\n",
    "        log: logarithmically scaled word count in text       \n",
    "        \"\"\"\n",
    "    \n",
    "    word_freq = {}\n",
    "\n",
    "    words = readable(text)\n",
    "    \n",
    "    for word in words:\n",
    "        word = word.lower()\n",
    "        if word in word_freq:\n",
    "            word_freq[word] += 1\n",
    "        else:\n",
    "            word_freq[word] = 1\n",
    "    \n",
    "    if method == 'freq': pass\n",
    "    \n",
    "    elif method == 'norm':\n",
    "        for word, freq in word_freq.iteritems():\n",
    "            word_freq[word] = freq/float(len(words))\n",
    "            \n",
    "    elif method == 'aug':\n",
    "        max_freq = max(word_freq.values())\n",
    "        for word, freq in word_freq.iteritems():\n",
    "            word_freq[word] = freq/float(max_freq)\n",
    "            \n",
    "    elif method == 'log':\n",
    "        for word, freq in word_freq.iteritems():\n",
    "            word_freq[word] = 1 + math.log(freq)\n",
    "    \n",
    "    return word_freq\n",
    "    \n",
    "\n",
    "print 'Frequency count: ', tf(data.data[0])['the']\n",
    "print 'Normalized count: ', tf(data.data[0], 'norm')['the']\n",
    "print 'Augmented count: ', tf(data.data[0], 'aug')['the']\n",
    "print 'Log-scale count: ', tf(data.data[0], 'log')['the']"
   ]
  },
  {
   "cell_type": "markdown",
   "metadata": {},
   "source": [
    "Next, you will be writing a function to compute the inverse document frequency part of [Tf-IDF](https://en.wikipedia.org/wiki/Tf%E2%80%93idf)."
   ]
  },
  {
   "cell_type": "code",
   "execution_count": 35,
   "metadata": {
    "collapsed": false
   },
   "outputs": [
    {
     "name": "stdout",
     "output_type": "stream",
     "text": [
      "0.306177440742 0.179285688888 0.474858953937\n",
      "Lowest IDF (most common)\n",
      "(u'the', 0.17928568888758886)\n",
      "(u'to', 0.29566862657258514)\n",
      "(u'a', 0.3061774407422126)\n",
      "(u'and', 0.38339301607014037)\n",
      "(u'of', 0.3904206347899775)\n",
      "(u'i', 0.45348881691922943)\n",
      "(u'in', 0.47485895393655214)\n",
      "(u'is', 0.48256227305706567)\n",
      "(u'that', 0.562891431606236)\n",
      "(u'it', 0.5888301647889916)\n",
      "\n",
      "Highest IDF (least common)\n",
      "(u'jawbone', 9.333796175903101)\n",
      "(u'false-alarms', 9.333796175903101)\n",
      "(u'm5y$*uv+)m:$hc:@])yh#m8*34cep:u-i\"ebfgi', 9.333796175903101)\n",
      "(u'92-cover', 9.333796175903101)\n",
      "(u'\"push-in\"', 9.333796175903101)\n",
      "(u\"\\\\qev#p'g\\\\'wqq\", 9.333796175903101)\n",
      "(u'x(1)', 9.333796175903101)\n",
      "(u'codings', 9.333796175903101)\n",
      "(u'bigotry)', 9.333796175903101)\n",
      "(u'(s)wine', 9.333796175903101)\n"
     ]
    }
   ],
   "source": [
    "\n",
    "import operator\n",
    "\n",
    "def idf(data):\n",
    "    \"\"\" Returns a dictionary where the keys are words and the values are inverse\n",
    "        document frequencies.  For this function you should use the formula\n",
    "        idf(w, data) = log(N / |text in data that contain the word w|) \"\"\"\n",
    "\n",
    "    word_pres = {}\n",
    "    num_posts = len(data)\n",
    "    \n",
    "    for post in data:\n",
    "        in_post = []\n",
    "        words = readable(post)\n",
    "\n",
    "        for word in words:\n",
    "            word = word.lower()\n",
    "            \n",
    "            #If the word has already been found in this post, don't consider it\n",
    "            if word in in_post: continue\n",
    "            in_post.append(word)\n",
    "        \n",
    "            if word in word_pres:\n",
    "                word_pres[word] += 1\n",
    "            else:\n",
    "                word_pres[word] = 1\n",
    "\n",
    "    #Replace simple frequency with inverse doc freq\n",
    "    for word, freq in word_pres.iteritems():\n",
    "        word_pres[word] = log(num_posts / float(freq))\n",
    "    \n",
    "    return word_pres\n",
    "\n",
    "idf = idf(data.data)\n",
    "sorted_idf = sorted(idf.items(), key=operator.itemgetter(1))\n",
    "\n",
    "print \"Lowest IDF (most common)\"\n",
    "for d in sorted_idf[0:10]:\n",
    "    print d\n",
    "\n",
    "print \"\"\n",
    "print \"Highest IDF (least common)\"\n",
    "rev_sorted_idf = sorted(idf.items(), key=operator.itemgetter(1))\n",
    "for d in reversed(rev_sorted_idf[-10:]):\n",
    "    print d"
   ]
  },
  {
   "cell_type": "markdown",
   "metadata": {},
   "source": [
    "The last step in Tf-IDF is to compute the product of tf and IDF for each document, and then convert the resultant dictionary of Tf-IDF features into a vector.  We'll be discussing this next class."
   ]
  },
  {
   "cell_type": "markdown",
   "metadata": {},
   "source": [
    "## Clarifying Questions\n",
    "\n",
    "Use this space to ask questions regarding the content covered in the reading. These questions should be restricted to helping you better understand the material. For questions that push beyond what is in the reading, use the next answer field. If you don't have a fully formed question, but are generally having a difficult time with a topic, you can indicate that here as well."
   ]
  },
  {
   "cell_type": "markdown",
   "metadata": {},
   "source": []
  },
  {
   "cell_type": "markdown",
   "metadata": {},
   "source": [
    "## Enrichment Questions\n",
    "\n",
    "Use this space to ask any questions that go beyond (but are related to) the material presented in this reading. Perhaps there is a particular topic you'd like to see covered in more depth. Perhaps you'd like to know how to use a library in a way that wasn't show in the reading. One way to think about this is what additional topics would you want covered in the next class (or addressed in a followup e-mail to the class). I'm a little fuzzy on what stuff will likely go here, so we'll see how things evolve."
   ]
  },
  {
   "cell_type": "markdown",
   "metadata": {},
   "source": [
    "**I found many different weighting formulas for both the tf and idf term, and I'd like to know when to use one over the other, and whether this depends on things like the type of text, the number of samples, etc. Also, are there correlated weighting schemes for tf and idf that need to be used together?**\n",
    "\n",
    "**And it looks like you can also have different weighting methods for the combined term!**"
   ]
  },
  {
   "cell_type": "markdown",
   "metadata": {},
   "source": [
    "## Additional Resources / Explorations\n",
    "\n",
    "If you found any useful resources, or tried some useful exercises that you'd like to report please do so here. Let us know what you did, what you learned, and how others can replicate it."
   ]
  },
  {
   "cell_type": "markdown",
   "metadata": {},
   "source": []
  }
 ],
 "metadata": {
  "kernelspec": {
   "display_name": "Python 2",
   "language": "python",
   "name": "python2"
  },
  "language_info": {
   "codemirror_mode": {
    "name": "ipython",
    "version": 2
   },
   "file_extension": ".py",
   "mimetype": "text/x-python",
   "name": "python",
   "nbconvert_exporter": "python",
   "pygments_lexer": "ipython2",
   "version": "2.7.11"
  }
 },
 "nbformat": 4,
 "nbformat_minor": 0
}
