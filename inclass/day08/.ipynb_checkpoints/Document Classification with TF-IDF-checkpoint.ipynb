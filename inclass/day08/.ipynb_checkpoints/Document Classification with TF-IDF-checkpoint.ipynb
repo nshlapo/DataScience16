{
 "cells": [
  {
   "cell_type": "markdown",
   "metadata": {},
   "source": [
    "## Exploring Tf-IDF\n",
    "\n",
    "In this notebook you will be exploring the computation of the Tf-IDF feature using a very popular dataset called 20 newsgroups."
   ]
  },
  {
   "cell_type": "code",
   "execution_count": 34,
   "metadata": {
    "collapsed": false
   },
   "outputs": [
    {
     "name": "stdout",
     "output_type": "stream",
     "text": [
      "the 20 newsgroups by date dataset\n",
      "Number of posts 11314\n"
     ]
    },
    {
     "data": {
      "image/png": "[encoded data removed]",
      "text/plain": [
       "<matplotlib.figure.Figure at 0x7f8ca54f6750>"
      ]
     },
     "metadata": {},
     "output_type": "display_data"
    },
    {
     "name": "stdout",
     "output_type": "stream",
     "text": [
      "First post!\n",
      "I was wondering if anyone out there could enlighten me on this car I saw\n",
      "the other day. It was a 2-door sports car, looked to be from the late 60s/\n",
      "early 70s. It was called a Bricklin. The doors were really small. In addition,\n",
      "the front bumper was separate from the rest of the body. This is \n",
      "all I know. If anyone can tellme a model name, engine specs, years\n",
      "of production, where this car is made, history, or whatever info you\n",
      "have on this funky looking car, please e-mail.\n",
      "[7 4 4 ..., 3 1 8]\n"
     ]
    }
   ],
   "source": [
    "%matplotlib inline\n",
    "from sklearn.datasets import fetch_20newsgroups\n",
    "\n",
    "data = fetch_20newsgroups(subset='train', remove=('headers', 'footers', 'quotes'))\n",
    "\n",
    "post_texts = data.data\n",
    "news_group_ids = data.target\n",
    "\n",
    "print data.description\n",
    "\n",
    "print \"Number of posts\", len(data.data)\n",
    "import matplotlib.pyplot as plt\n",
    "plt.hist(data.target, bins=20)\n",
    "plt.xlabel('Newsgroup Id')\n",
    "plt.ylabel('Number of Posts')\n",
    "plt.show()\n",
    "\n",
    "print \"First post!\"\n",
    "print data.data[0]\n",
    "print data.target"
   ]
  },
  {
   "cell_type": "code",
   "execution_count": 16,
   "metadata": {
    "collapsed": true
   },
   "outputs": [],
   "source": [
    "def readable(text):\n",
    "    '''  Return a list of formatted words (string) that make up the text'''\n",
    "    replace = [',', '.', '\\n', '/', '!', '?', '(', ')']\n",
    "    \n",
    "    for char in replace:\n",
    "        text = text.replace(char, ' ')\n",
    "        \n",
    "    return [word.lower() for word in text.split()]"
   ]
  },
  {
   "cell_type": "markdown",
   "metadata": {},
   "source": [
    "Next, you will be writing a function to compute the term frequency part of [Tf-IDF](https://en.wikipedia.org/wiki/Tf%E2%80%93idf).  It's up to you how fancy to make this function.  In my simple version, I used split after first removing leading or trailing punctuation (I used the `strip` function) and also converting the words to lower case."
   ]
  },
  {
   "cell_type": "code",
   "execution_count": 17,
   "metadata": {
    "collapsed": false
   },
   "outputs": [
    {
     "data": {
      "text/plain": [
       "{u'2-door': 1,\n",
       " u'60s': 1,\n",
       " u'70s': 1,\n",
       " u'a': 3,\n",
       " u'addition': 1,\n",
       " u'all': 1,\n",
       " u'anyone': 2,\n",
       " u'be': 1,\n",
       " u'body': 1,\n",
       " u'bricklin': 1,\n",
       " u'bumper': 1,\n",
       " u'called': 1,\n",
       " u'can': 1,\n",
       " u'car': 4,\n",
       " u'could': 1,\n",
       " u'day': 1,\n",
       " u'doors': 1,\n",
       " u'e-mail': 1,\n",
       " u'early': 1,\n",
       " u'engine': 1,\n",
       " u'enlighten': 1,\n",
       " u'from': 2,\n",
       " u'front': 1,\n",
       " u'funky': 1,\n",
       " u'have': 1,\n",
       " u'history': 1,\n",
       " u'i': 3,\n",
       " u'if': 2,\n",
       " u'in': 1,\n",
       " u'info': 1,\n",
       " u'is': 2,\n",
       " u'it': 2,\n",
       " u'know': 1,\n",
       " u'late': 1,\n",
       " u'looked': 1,\n",
       " u'looking': 1,\n",
       " u'made': 1,\n",
       " u'me': 1,\n",
       " u'model': 1,\n",
       " u'name': 1,\n",
       " u'of': 2,\n",
       " u'on': 2,\n",
       " u'or': 1,\n",
       " u'other': 1,\n",
       " u'out': 1,\n",
       " u'please': 1,\n",
       " u'production': 1,\n",
       " u'really': 1,\n",
       " u'rest': 1,\n",
       " u'saw': 1,\n",
       " u'separate': 1,\n",
       " u'small': 1,\n",
       " u'specs': 1,\n",
       " u'sports': 1,\n",
       " u'tellme': 1,\n",
       " u'the': 6,\n",
       " u'there': 1,\n",
       " u'this': 4,\n",
       " u'to': 1,\n",
       " u'was': 4,\n",
       " u'were': 1,\n",
       " u'whatever': 1,\n",
       " u'where': 1,\n",
       " u'wondering': 1,\n",
       " u'years': 1,\n",
       " u'you': 1}"
      ]
     },
     "execution_count": 17,
     "metadata": {},
     "output_type": "execute_result"
    }
   ],
   "source": [
    "import string\n",
    "\n",
    "def tf(text, method='freq'):\n",
    "    \"\"\" Returns a dictionary where keys are words that occur in text\n",
    "        and the value is based on the (method):\n",
    "        \n",
    "        freq: word count in text\n",
    "        norm: ratio of word count to total words in text\n",
    "        aug: ratio of word count to max word count in text\n",
    "        log: logarithmically scaled word count in text       \n",
    "        \"\"\"\n",
    "    \n",
    "    word_freq = {}\n",
    "\n",
    "    words = readable(text)\n",
    "    \n",
    "    for word in words:\n",
    "        if word in word_freq:\n",
    "            word_freq[word] += 1\n",
    "        else:\n",
    "            word_freq[word] = 1\n",
    "    \n",
    "    if method == 'freq': pass\n",
    "    \n",
    "    elif method == 'norm':\n",
    "        for word, freq in word_freq.iteritems():\n",
    "            word_freq[word] = freq/float(len(words))\n",
    "            \n",
    "    elif method == 'aug':\n",
    "        max_freq = max(word_freq.values())\n",
    "        for word, freq in word_freq.iteritems():\n",
    "            word_freq[word] = freq/float(max_freq)\n",
    "            \n",
    "    elif method == 'log':\n",
    "        for word, freq in word_freq.iteritems():\n",
    "            word_freq[word] = 1 + log(freq)\n",
    "    \n",
    "    return word_freq\n",
    "\n",
    "tf(data.data[0])"
   ]
  },
  {
   "cell_type": "markdown",
   "metadata": {},
   "source": [
    "Next, you will be writing a function to compute the inverse document frequency part of [Tf-IDF](https://en.wikipedia.org/wiki/Tf%E2%80%93idf)."
   ]
  },
  {
   "cell_type": "code",
   "execution_count": 21,
   "metadata": {
    "collapsed": false
   },
   "outputs": [
    {
     "name": "stdout",
     "output_type": "stream",
     "text": [
      "Lowest IDF (most common)\n",
      "(u'the', 0.17801759191960093)\n",
      "(u'to', 0.29507483758773734)\n",
      "(u'a', 0.3047379011462104)\n",
      "(u'and', 0.37692970504896217)\n",
      "(u'of', 0.3895068562524046)\n",
      "(u'i', 0.4420095400457863)\n",
      "(u'in', 0.471029433619305)\n",
      "(u'is', 0.48198961735065027)\n",
      "(u'that', 0.5604115791264535)\n",
      "(u'it', 0.5839052203678422)\n",
      "\n",
      "Highest IDF (least common)\n",
      "(u'jawbone', 9.333796175903101)\n",
      "(u'yi__w', 9.333796175903101)\n",
      "(u'false-alarms', 9.333796175903101)\n",
      "(u'92-cover', 9.333796175903101)\n",
      "(u':<k>w<g', 9.333796175903101)\n",
      "(u\"\\\\qev#p'g\\\\'wqq\", 9.333796175903101)\n",
      "(u'\"`@*u2czl;dmn', 9.333796175903101)\n",
      "(u'-r>h>&]\"', 9.333796175903101)\n",
      "(u\";=:f>>'b>\", 9.333796175903101)\n",
      "(u'codings', 9.333796175903101)\n"
     ]
    }
   ],
   "source": [
    "from math import log\n",
    "import operator\n",
    "\n",
    "def idf(data):\n",
    "    \"\"\" Returns a dictionary where the keys are words and the values are inverse\n",
    "        document frequencies.  For this function you should use the formula\n",
    "        idf(w, data) = log(N / |text in data that contain the word w|) \"\"\"\n",
    "\n",
    "    word_pres = {}\n",
    "    num_posts = len(data)\n",
    "    \n",
    "    for post in data:\n",
    "        words = set(readable(post))\n",
    "        \n",
    "        for word in words:        \n",
    "            if word in word_pres:\n",
    "                word_pres[word] += 1\n",
    "            else:\n",
    "                word_pres[word] = 1\n",
    "\n",
    "    #Replace simple frequency with inverse doc freq\n",
    "    for word, freq in word_pres.iteritems():\n",
    "        word_pres[word] = log(num_posts / float(freq))\n",
    "    \n",
    "    return word_pres\n",
    "\n",
    "idf_dict = idf(data.data)\n",
    "sorted_idf = sorted(idf_dict.items(), key=operator.itemgetter(1))\n",
    "\n",
    "print \"Lowest IDF (most common)\"\n",
    "for d in sorted_idf[0:10]:\n",
    "    print d\n",
    "\n",
    "print \"\"\n",
    "print \"Highest IDF (least common)\"\n",
    "rev_sorted_idf = sorted(idf_dict.items(), key=operator.itemgetter(1))\n",
    "for d in reversed(rev_sorted_idf[-10:]):\n",
    "    print d"
   ]
  },
  {
   "cell_type": "markdown",
   "metadata": {
    "collapsed": true
   },
   "source": [
    "### Tf-IDF and Document Classification\n",
    "\n",
    "Next, you will be using these functions to create a model to classify the newsgroup documents.  Here is an outline of the basic steps you will need to take to do this.\n",
    "\n",
    "1.  Create a tfidf function that combines your tf and idf function to process a string and returns the TF-IDF features for that string expressed as a Python dictionary.\n",
    "2.  Create a function that takes a list of strings (a dataset) and returns a matrix consisting of the TF-IDF features for each string expressed as a vector.  This will require you to think about how to map a specific word to a specific element of your vector.  You will have to think about whether to store your data as a sparse or dense matrix.\n",
    "3.  Use your vectorizer on the news group data.  Then use something like cross_val_score to estimate the performance of your model.  Start with a subset of the data so you get a sense for the training time.  For your classifier, you can try different options.  Some good ones to look at would be Support Vector Classifiers, Logistic Regression, and RandomForests."
   ]
  },
  {
   "cell_type": "code",
   "execution_count": 39,
   "metadata": {
    "collapsed": false
   },
   "outputs": [],
   "source": [
    "method = freq\n",
    "\n",
    "def tfidf(text, idf_dict, method='freq'):\n",
    "    tf_dict = tf(text, method)\n",
    "    tfidf_dict = {}\n",
    "    \n",
    "    for word , val in tf_dict.iteritems():\n",
    "        tfidf_dict[word] = val*idf_dict[word]\n",
    "        \n",
    "    return tfidf_dict"
   ]
  },
  {
   "cell_type": "code",
   "execution_count": 37,
   "metadata": {
    "collapsed": false
   },
   "outputs": [],
   "source": [
    "#Calculate an idf dict so that you don't need to recalculate every time\n",
    "idf_dict = idf(data.data)"
   ]
  },
  {
   "cell_type": "code",
   "execution_count": 38,
   "metadata": {
    "collapsed": false
   },
   "outputs": [
    {
     "name": "stdout",
     "output_type": "stream",
     "text": [
      "(u'doors', 0.9211889476887968)\n",
      "(u'bumper', 1.0739040696678226)\n",
      "(u'enlighten', 1.1281411364069274)\n",
      "(u'60s', 1.189428599761147)\n",
      "(u'70s', 1.189428599761147)\n",
      "(u'funky', 1.2873930439115)\n",
      "(u'2-door', 1.3725306478724983)\n",
      "(u'bricklin', 1.440108165890526)\n",
      "(u'tellme', 1.5556326959838502)\n",
      "(u'car', 2.2589170448643503)\n"
     ]
    }
   ],
   "source": [
    "d = tfidf(data.data[0], idf_dict)\n",
    "\n",
    "sorted_d = sorted(d.items(), key=operator.itemgetter(1))\n",
    "for ele in sorted_d[-10:]:\n",
    "    print ele"
   ]
  },
  {
   "cell_type": "code",
   "execution_count": 44,
   "metadata": {
    "collapsed": false
   },
   "outputs": [],
   "source": [
    "import scipy.sparse as sparse\n",
    "\n",
    "def tfidf_matrix(data, idf_dict):\n",
    "    \n",
    "    word_ind = dict(zip(idf_dict.keys(), xrange(len(idf_dict))))\n",
    "    matrix = sparse.lil_matrix((len(data), len(idf_dict)))\n",
    "    j = 0\n",
    "    \n",
    "    for i, doc in enumerate(data):\n",
    "        tfidf_dict = tfidf(doc, idf_dict)\n",
    "                \n",
    "        for word, val in tfidf_dict.iteritems():\n",
    "                matrix[i,word_ind[word]] = val\n",
    "                             \n",
    "    return matrix"
   ]
  },
  {
   "cell_type": "code",
   "execution_count": null,
   "metadata": {
    "collapsed": false
   },
   "outputs": [],
   "source": [
    "from sklearn.svm import SVC\n",
    "from sklearn.cross_validation import cross_val_score\n",
    "\n",
    "clf = SVC()\n",
    "matrix = tfidf_matrix(data.data, idf_dict)\n",
    "\n",
    "scores = cross_val_score(clf, matrix[:100,:], data.target[:100], cv=3)\n",
    "\n",
    "print scores.mean()"
   ]
  }
 ],
 "metadata": {
  "kernelspec": {
   "display_name": "Python 2",
   "language": "python",
   "name": "python2"
  },
  "language_info": {
   "codemirror_mode": {
    "name": "ipython",
    "version": 2
   },
   "file_extension": ".py",
   "mimetype": "text/x-python",
   "name": "python",
   "nbconvert_exporter": "python",
   "pygments_lexer": "ipython2",
   "version": "2.7.11"
  }
 },
 "nbformat": 4,
 "nbformat_minor": 0
}
