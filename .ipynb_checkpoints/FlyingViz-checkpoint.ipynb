{
 "cells": [
  {
   "cell_type": "code",
   "execution_count": 96,
   "metadata": {
    "collapsed": false
   },
   "outputs": [],
   "source": [
    "%matplotlib inline\n",
    "import pandas as pd\n",
    "import matplotlib.pyplot as plt\n",
    "import seaborn as sns\n",
    "\n",
    "data = pd.read_csv('flying-etiquette.csv')\n",
    "flyers = data[data['How often do you travel by plane?'] != 'Never']"
   ]
  },
  {
   "cell_type": "code",
   "execution_count": 97,
   "metadata": {
    "collapsed": false
   },
   "outputs": [
    {
     "name": "stdout",
     "output_type": "stream",
     "text": [
      "Index([u'RespondentID', u'How often do you travel by plane?',\n",
      "       u'Do you ever recline your seat when you fly?', u'How tall are you?',\n",
      "       u'Do you have any children under 18?',\n",
      "       u'In a row of three seats, who should get to use the two arm rests?',\n",
      "       u'In a row of two seats, who should get to use the middle arm rest?',\n",
      "       u'Who should have control over the window shade?',\n",
      "       u'Is itrude to move to an unsold seat on a plane?',\n",
      "       u'Generally speaking, is it rude to say more than a few words tothe stranger sitting next to you on a plane?',\n",
      "       u'On a 6 hour flight from NYC to LA, how many times is it acceptable to get up if you're not in an aisle seat?',\n",
      "       u'Under normal circumstances, does a person who reclines their seat during a flight have any obligation to the person sitting behind them?',\n",
      "       u'Is itrude to recline your seat on a plane?',\n",
      "       u'Given the opportunity, would you eliminate the possibility of reclining seats on planes entirely?',\n",
      "       u'Is it rude to ask someone to switch seats with you in order to be closer to friends?',\n",
      "       u'Is itrude to ask someone to switch seats with you in order to be closer to family?',\n",
      "       u'Is it rude to wake a passenger up if you are trying to go to the bathroom?',\n",
      "       u'Is itrude to wake a passenger up if you are trying to walk around?',\n",
      "       u'In general, is itrude to bring a baby on a plane?',\n",
      "       u'In general, is it rude to knowingly bring unruly children on a plane?',\n",
      "       u'Have you ever used personal electronics during take off or landing in violation of a flight attendant's direction?',\n",
      "       u'Have you ever smoked a cigarette in an airplane bathroom when it was against the rules?',\n",
      "       u'Gender', u'Age', u'Household Income', u'Education',\n",
      "       u'Location (Census Region)'],\n",
      "      dtype='object')\n",
      "No, not at all rude    675\n",
      "Yes, somewhat rude     153\n",
      "Yes, very rude          27\n",
      "Name: Generally speaking, is it rude to say more than a few words tothe stranger sitting next to you on a plane?, dtype: int64\n",
      "No, not at all rude    705\n",
      "Yes, somewhat rude     125\n",
      "Yes, very rude          20\n",
      "Name: Is itrude to ask someone to switch seats with you in order to be closer to family?, dtype: int64\n"
     ]
    }
   ],
   "source": [
    "# print data.Age.value_counts()\n",
    "\n",
    "young = flyers[flyers.Age == '18-29']\n",
    "mid = flyers[flyers.Age == '30-44']\n",
    "midOld = flyers[flyers.Age == '45-60']\n",
    "old = flyers[flyers.Age == '> 60']\n",
    "\n",
    "# data[data['Have you ever smoked a cigarette in an airplane bathroom when it was against the rules?'] == 'Yes']\n",
    "print data.columns\n",
    "print data.iloc[:,9].value_counts()\n",
    "print data.iloc[:,15].value_counts()"
   ]
  },
  {
   "cell_type": "code",
   "execution_count": 98,
   "metadata": {
    "collapsed": false
   },
   "outputs": [
    {
     "data": {
      "image/png": "[encoded data removed]",
      "text/plain": [
       "<matplotlib.figure.Figure at 0x7f0a9ad4ae90>"
      ]
     },
     "metadata": {},
     "output_type": "display_data"
    }
   ],
   "source": [
    "def talking_norm(data):\n",
    "    talk = data.iloc[:, 9].value_counts()\n",
    "    return talk[0]/float(sum(talk))\n",
    "    \n",
    "def closer_to_friends(data):\n",
    "    friends = data.iloc[:, 13].value_counts()\n",
    "    return friends[0]/float(sum(friends))\n",
    "    \n",
    "def closer_to_fam(data):\n",
    "    fam = data.iloc[:, 12].value_counts()\n",
    "    return fam[0]/float(sum(fam))\n",
    "    \n",
    "fam_appro = [closer_to_fam(young), closer_to_fam(mid), closer_to_fam(midOld), closer_to_fam(old)]\n",
    "fri_appro = [closer_to_friends(young), closer_to_friends(mid), closer_to_friends(midOld), closer_to_friends(old)]\n",
    "    \n",
    "bar_width = .2\n",
    "ax_loc = [bar_width*3*i for i in xrange(4)]\n",
    "ax_loc2 = [(val + bar_width) for val in ax_loc]\n",
    "label_loc = [(val + bar_width) for val in ax_loc]\n",
    "\n",
    "# plt.bar(ax_loc, [talking_norm(young), talking_norm(mid), talking_norm(midOld), talking_norm(old)], bar_width)\n",
    "# plt.ylabel('% of group that thinks talking is appropriate')\n",
    "# plt.xlabel('Age Group')\n",
    "# plt.xticks([.5,1.5,2.5,3.5], ['Young', 'Mid', 'MidOld', 'Old'])\n",
    "\n",
    "plt.bar(ax_loc, fam_appro, bar_width, color='r', alpha=.7)\n",
    "plt.bar(ax_loc2, fri_appro, bar_width)\n",
    "plt.xticks(label_loc, ['Young', 'Mid', 'MidOld', 'Old'])\n",
    "plt.ylabel('Percent Approval')\n",
    "plt.xlabel('Age Group')\n",
    "plt.legend(['Move next to family', 'Move next to friends'])\n",
    "plt.ylim(.3, .8)\n",
    "plt.gcf().set_size_inches(8, 6)\n"
   ]
  }
 ],
 "metadata": {
  "kernelspec": {
   "display_name": "Python 2",
   "language": "python",
   "name": "python2"
  },
  "language_info": {
   "codemirror_mode": {
    "name": "ipython",
    "version": 2
   },
   "file_extension": ".py",
   "mimetype": "text/x-python",
   "name": "python",
   "nbconvert_exporter": "python",
   "pygments_lexer": "ipython2",
   "version": "2.7.11"
  }
 },
 "nbformat": 4,
 "nbformat_minor": 0
}
